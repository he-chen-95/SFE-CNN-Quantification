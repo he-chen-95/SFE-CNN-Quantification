{
 "cells": [
  {
   "cell_type": "code",
   "execution_count": 1,
   "metadata": {},
   "outputs": [
    {
     "name": "stdout",
     "output_type": "stream",
     "text": [
      "arr:\n",
      " [[[[  0   1   2   3   4]\n",
      "   [  5   6   7   8   9]\n",
      "   [ 10  11  12  13  14]\n",
      "   [ 15  16  17  18  19]]\n",
      "\n",
      "  [[ 20  21  22  23  24]\n",
      "   [ 25  26  27  28  29]\n",
      "   [ 30  31  32  33  34]\n",
      "   [ 35  36  37  38  39]]\n",
      "\n",
      "  [[ 40  41  42  43  44]\n",
      "   [ 45  46  47  48  49]\n",
      "   [ 50  51  52  53  54]\n",
      "   [ 55  56  57  58  59]]]\n",
      "\n",
      "\n",
      " [[[ 60  61  62  63  64]\n",
      "   [ 65  66  67  68  69]\n",
      "   [ 70  71  72  73  74]\n",
      "   [ 75  76  77  78  79]]\n",
      "\n",
      "  [[ 80  81  82  83  84]\n",
      "   [ 85  86  87  88  89]\n",
      "   [ 90  91  92  93  94]\n",
      "   [ 95  96  97  98  99]]\n",
      "\n",
      "  [[100 101 102 103 104]\n",
      "   [105 106 107 108 109]\n",
      "   [110 111 112 113 114]\n",
      "   [115 116 117 118 119]]]\n",
      "\n",
      "\n",
      " [[[120 121 122 123 124]\n",
      "   [125 126 127 128 129]\n",
      "   [130 131 132 133 134]\n",
      "   [135 136 137 138 139]]\n",
      "\n",
      "  [[140 141 142 143 144]\n",
      "   [145 146 147 148 149]\n",
      "   [150 151 152 153 154]\n",
      "   [155 156 157 158 159]]\n",
      "\n",
      "  [[160 161 162 163 164]\n",
      "   [165 166 167 168 169]\n",
      "   [170 171 172 173 174]\n",
      "   [175 176 177 178 179]]]]\n",
      "\n",
      "iterating by rows:\n",
      "[[[ 0  1  2  3  4]\n",
      "  [ 5  6  7  8  9]\n",
      "  [10 11 12 13 14]\n",
      "  [15 16 17 18 19]]\n",
      "\n",
      " [[20 21 22 23 24]\n",
      "  [25 26 27 28 29]\n",
      "  [30 31 32 33 34]\n",
      "  [35 36 37 38 39]]\n",
      "\n",
      " [[40 41 42 43 44]\n",
      "  [45 46 47 48 49]\n",
      "  [50 51 52 53 54]\n",
      "  [55 56 57 58 59]]]\n",
      "[[[ 60  61  62  63  64]\n",
      "  [ 65  66  67  68  69]\n",
      "  [ 70  71  72  73  74]\n",
      "  [ 75  76  77  78  79]]\n",
      "\n",
      " [[ 80  81  82  83  84]\n",
      "  [ 85  86  87  88  89]\n",
      "  [ 90  91  92  93  94]\n",
      "  [ 95  96  97  98  99]]\n",
      "\n",
      " [[100 101 102 103 104]\n",
      "  [105 106 107 108 109]\n",
      "  [110 111 112 113 114]\n",
      "  [115 116 117 118 119]]]\n",
      "[[[120 121 122 123 124]\n",
      "  [125 126 127 128 129]\n",
      "  [130 131 132 133 134]\n",
      "  [135 136 137 138 139]]\n",
      "\n",
      " [[140 141 142 143 144]\n",
      "  [145 146 147 148 149]\n",
      "  [150 151 152 153 154]\n",
      "  [155 156 157 158 159]]\n",
      "\n",
      " [[160 161 162 163 164]\n",
      "  [165 166 167 168 169]\n",
      "  [170 171 172 173 174]\n",
      "  [175 176 177 178 179]]]\n"
     ]
    }
   ],
   "source": [
    "import numpy as np\n",
    "\n",
    "arr = np.arange(180).reshape(3, 3, 4, 5)\n",
    "\n",
    "print(\"arr:\\n\", arr)\n",
    "\n",
    "print(\"\\niterating by rows:\")\n",
    "for row in arr:\n",
    "    print(row)"
   ]
  },
  {
   "cell_type": "code",
   "execution_count": 2,
   "metadata": {},
   "outputs": [
    {
     "name": "stdout",
     "output_type": "stream",
     "text": [
      "[  0   1   2   3   4   5   6   7   8   9  10  11  12  13  14  15  16  17\n",
      "  18  19  20  21  22  23  24  25  26  27  28  29  30  31  32  33  34  35\n",
      "  36  37  38  39  40  41  42  43  44  45  46  47  48  49  50  51  52  53\n",
      "  54  55  56  57  58  59  60  61  62  63  64  65  66  67  68  69  70  71\n",
      "  72  73  74  75  76  77  78  79  80  81  82  83  84  85  86  87  88  89\n",
      "  90  91  92  93  94  95  96  97  98  99 100 101 102 103 104 105 106 107\n",
      " 108 109 110 111 112 113 114 115 116 117 118 119 120 121 122 123 124 125\n",
      " 126 127 128 129 130 131 132 133 134 135 136 137 138 139 140 141 142 143\n",
      " 144 145 146 147 148 149 150 151 152 153 154 155 156 157 158 159 160 161\n",
      " 162 163 164 165 166 167 168 169 170 171 172 173 174 175 176 177 178 179]\n"
     ]
    }
   ],
   "source": [
    "arr_1 = arr.reshape(180)\n",
    "print(arr_1)"
   ]
  },
  {
   "cell_type": "code",
   "execution_count": 3,
   "metadata": {
    "scrolled": true
   },
   "outputs": [
    {
     "name": "stdout",
     "output_type": "stream",
     "text": [
      "conv_0:\n",
      " [[[  0   5  10  15]\n",
      "  [ 20  25  30  35]\n",
      "  [ 40  45  50  55]]\n",
      "\n",
      " [[ 60  65  70  75]\n",
      "  [ 80  85  90  95]\n",
      "  [100 105 110 115]]\n",
      "\n",
      " [[120 125 130 135]\n",
      "  [140 145 150 155]\n",
      "  [160 165 170 175]]]\n",
      "conv_0_d_0:\n",
      " [[  0  20  40]\n",
      " [ 60  80 100]\n",
      " [120 140 160]]\n",
      "conv_0_d_1:\n",
      " [[  5  25  45]\n",
      " [ 65  85 105]\n",
      " [125 145 165]]\n",
      "conv_0_d_2:\n",
      " [[ 10  30  50]\n",
      " [ 70  90 110]\n",
      " [130 150 170]]\n",
      "conv_0_d_3:\n",
      " [[ 15  35  55]\n",
      " [ 75  95 115]\n",
      " [135 155 175]]\n",
      "conv_0_d_0_c_0:\n",
      " [  0  60 120]\n",
      "conv_0_d_0_c_1:\n",
      " [ 20  80 140]\n",
      "conv_0_d_0_c_2:\n",
      " [ 40 100 160]\n",
      "conv_0_d_0_r_0:\n",
      " [ 0 20 40]\n",
      "conv_0_d_0_r_1:\n",
      " [ 60  80 100]\n",
      "conv_0_d_0_r_2:\n",
      " [120 140 160]\n",
      "conv_0_d_0:(0,0),(0,1),(0,2):\n",
      " 0 20 40\n"
     ]
    }
   ],
   "source": [
    "conv_0 = arr[:,:,:,0]\n",
    "print(\"conv_0:\\n\", conv_0)\n",
    "# conv kernel\n",
    "conv_0_d_0 = arr[:,:,0,0]\n",
    "conv_0_d_1 = arr[:,:,1,0]\n",
    "conv_0_d_2 = arr[:,:,2,0]\n",
    "conv_0_d_3 = arr[:,:,3,0]\n",
    "\n",
    "conv_1_d_0 = arr[:,:,0,1]\n",
    "conv_1_d_1 = arr[:,:,1,1]\n",
    "conv_1_d_2 = arr[:,:,2,1]\n",
    "\n",
    "# 第0,1,2列\n",
    "conv_0_d_0_c_0 = arr[:,0,0,0]\n",
    "conv_0_d_0_c_1 = arr[:,1,0,0]\n",
    "conv_0_d_0_c_2 = arr[:,2,0,0]\n",
    "# 第0,1,2行\n",
    "conv_0_d_0_r_0 = arr[0, :,0,0]\n",
    "conv_0_d_0_r_1 = arr[1, :,0,0]\n",
    "conv_0_d_0_r_2 = arr[2, :,0,0]\n",
    "\n",
    "# 一些元素(0,0),(0,1),(0.2)\n",
    "conv_0_d_0_c_0_r_0 = arr[0,0,0,0]\n",
    "conv_0_d_0_c_1_r_0 = arr[0,1,0,0]\n",
    "conv_0_d_0_c_2_r_0 = arr[0,2,0,0]\n",
    "\n",
    "print(\"conv_0_d_0:\\n\", conv_0_d_0)\n",
    "print(\"conv_0_d_1:\\n\", conv_0_d_1)\n",
    "print(\"conv_0_d_2:\\n\", conv_0_d_2)\n",
    "print(\"conv_0_d_3:\\n\", conv_0_d_3)\n",
    "\n",
    "print(\"conv_0_d_0_c_0:\\n\", conv_0_d_0_c_0)\n",
    "print(\"conv_0_d_0_c_1:\\n\", conv_0_d_0_c_1)\n",
    "print(\"conv_0_d_0_c_2:\\n\", conv_0_d_0_c_2)\n",
    "\n",
    "print(\"conv_0_d_0_r_0:\\n\", conv_0_d_0_r_0)\n",
    "print(\"conv_0_d_0_r_1:\\n\", conv_0_d_0_r_1)\n",
    "print(\"conv_0_d_0_r_2:\\n\", conv_0_d_0_r_2)\n",
    "\n",
    "print(\"conv_0_d_0:(0,0),(0,1),(0,2):\\n\", \n",
    "     conv_0_d_0_c_0_r_0, conv_0_d_0_c_1_r_0,\n",
    "     conv_0_d_0_c_2_r_0)\n",
    "# open file, \"a\"-> append, \"w\" -> overwrite\n",
    "file=open(\"coefficient_file/4d_ndarray_test.txt\", \"w\")\n",
    "file.write(\"1st conv kernel:\\n\")\n",
    "np.savetxt(file,conv_0_d_0)\n",
    "np.savetxt(file,conv_0_d_1)\n",
    "np.savetxt(file,conv_0_d_2)\n",
    "file.write(\"2nd conv kernel:\\n\")\n",
    "np.savetxt(file,conv_1_d_0)\n",
    "np.savetxt(file,conv_1_d_1)\n",
    "np.savetxt(file,conv_1_d_2)\n",
    "file.close()"
   ]
  },
  {
   "cell_type": "markdown",
   "metadata": {},
   "source": [
    "卷积核0，channel 0\n",
    "\n",
    "conv_0_d_0:\n",
    "\n",
    " [[  0  20  40]\n",
    "  [ 60  80 100]\n",
    "  [120 140 160]]\n",
    "  \n",
    "卷积核0，channel 1\n",
    "\n",
    "conv_0_d_1:\n",
    "\n",
    " [[  5  25  45]\n",
    " [ 65  85 105]\n",
    " [125 145 165]]\n",
    " \n",
    "卷积核0，channel 2\n",
    "\n",
    "conv_0_d_2:\n",
    "\n",
    " [[ 10  30  50]\n",
    " [ 70  90 110]\n",
    " [130 150 170]]\n",
    " \n",
    "卷积核0，channel 3\n",
    "\n",
    "conv_0_d_3:\n",
    "\n",
    " [[ 15  35  55]\n",
    " [ 75  95 115]\n",
    " [135 155 175]]"
   ]
  },
  {
   "cell_type": "code",
   "execution_count": 12,
   "metadata": {},
   "outputs": [
    {
     "name": "stdout",
     "output_type": "stream",
     "text": [
      "4d array :\n",
      "    type: <class 'numpy.ndarray'>\n",
      "    dtype: int64\n",
      "    shape: (3, 3, 4, 5)\n",
      "3 3 4 5\n"
     ]
    }
   ],
   "source": [
    "print(\"4d array :\")\n",
    "print(\"    type:\",type(arr))\n",
    "print(\"    dtype:\", arr.dtype)\n",
    "print(\"    shape:\", arr.shape)\n",
    "\n",
    "print(arr.shape[0], arr.shape[1], arr.shape[2], arr.shape[3])\n",
    "# shape=(filter_height, filter_width, in_channals, out_channels)\n",
    "# shape=(row of filter, column of filter, number of channals, number of kernel)"
   ]
  },
  {
   "cell_type": "code",
   "execution_count": 4,
   "metadata": {
    "scrolled": true
   },
   "outputs": [],
   "source": [
    "# write coefiicent by iterating each kernel, 3 parameter each row\n",
    "file=open(\"coefficient_file/4d_ndarray_test_1.txt\", \"w\")\n",
    "for i in range(arr.shape[3]):\n",
    "    description = str(i+1) + \" conv kernel:\\n\"\n",
    "    file.write(description)\n",
    "    for j in range(arr.shape[2]):\n",
    "        np.savetxt(file,arr[:,:,j,i])\n",
    "        #for k in range(arr.shape[1]):            \n",
    "            #for l in range(arr.shape[0]):\n",
    "                #print(\"*\", end=\" \")\n",
    "file.close()"
   ]
  },
  {
   "cell_type": "code",
   "execution_count": 5,
   "metadata": {},
   "outputs": [],
   "source": [
    "# write coefiicent by itarating each row of kernel, 1 parameter each row\n",
    "file=open(\"coefficient_file/4d_ndarray_test_2.txt\", \"w\")\n",
    "for i in range(arr.shape[3]):\n",
    "    description = str(i+1) + \" conv kernel:\\n\"\n",
    "    file.write(description)\n",
    "    for j in range(arr.shape[2]):\n",
    "        for k in range(arr.shape[1]):\n",
    "            np.savetxt(file,arr[:,k,j,i])\n",
    "            #for l in range(arr.shape[0]):\n",
    "                #print(\"*\", end=\" \")\n",
    "file.close()"
   ]
  },
  {
   "cell_type": "code",
   "execution_count": 7,
   "metadata": {},
   "outputs": [
    {
     "name": "stdout",
     "output_type": "stream",
     "text": [
      "0 1 2 3 4 5 6 7 8 9 10 11 12 13 14 15 16 17 18 19 20 21 22 23 24 25 26 27 28 29 30 31 32 33 34 35 36 37 38 39 40 41 42 43 44 45 46 47 48 49 50 51 52 53 54 55 56 57 58 59 60 61 62 63 64 65 66 67 68 69 70 71 72 73 74 75 76 77 78 79 80 81 82 83 84 85 86 87 88 89 90 91 92 93 94 95 96 97 98 99 100 101 102 103 104 105 106 107 108 109 110 111 112 113 114 115 116 117 118 119 120 121 122 123 124 125 126 127 128 129 130 131 132 133 134 135 136 137 138 139 140 141 142 143 144 145 146 147 148 149 150 151 152 153 154 155 156 157 158 159 160 161 162 163 164 165 166 167 168 169 170 171 172 173 174 175 176 177 178 179 "
     ]
    }
   ],
   "source": [
    "for i in range(arr.shape[0]):\n",
    "    for j in range(arr.shape[1]):\n",
    "        for k in range(arr.shape[2]):\n",
    "            for l in range(arr.shape[3]):\n",
    "                print(arr[i, j, k, l], end=\" \")\n",
    "                \n",
    "# print(arr[i, j, k, l], end=\" \")"
   ]
  },
  {
   "cell_type": "code",
   "execution_count": null,
   "metadata": {},
   "outputs": [],
   "source": [
    "#import numpy \n",
    "#numpy.savetxt(\"coefficient_file/w__test_1.csv\", arr, delimiter=\",\")\n",
    "# ValueError: Expected 1D or 2D array, got 4D array instead"
   ]
  },
  {
   "cell_type": "code",
   "execution_count": null,
   "metadata": {},
   "outputs": [],
   "source": [
    "# write coefiicent by iterating each row of kernels, 1 parameter each row\n",
    "#file=open(\"coefficient_file/w__test_1.txt\", \"w\")\n",
    "# we test default itrating order for ndarray\n",
    "#np.savetxt(file, arr[:, :, :, :])\n",
    "#file.close()\n",
    "# ValueError: Expected 1D or 2D array, got 4D array instead"
   ]
  },
  {
   "cell_type": "code",
   "execution_count": null,
   "metadata": {},
   "outputs": [],
   "source": [
    "#import pandas as pd\n",
    "#pd.DataFrame(arr).to_csv(\"coefficient_file/w__test_1.csv\")\n",
    "# ValueError: Must pass 2-d input"
   ]
  },
  {
   "cell_type": "code",
   "execution_count": 14,
   "metadata": {},
   "outputs": [
    {
     "name": "stdout",
     "output_type": "stream",
     "text": [
      "2d array :\n",
      "    type: <class 'numpy.ndarray'>\n",
      "    dtype: int64\n",
      "    shape: (25, 8)\n",
      "arr_2:\n",
      " [[  0   1   2   3   4   5   6   7]\n",
      " [  8   9  10  11  12  13  14  15]\n",
      " [ 16  17  18  19  20  21  22  23]\n",
      " [ 24  25  26  27  28  29  30  31]\n",
      " [ 32  33  34  35  36  37  38  39]\n",
      " [ 40  41  42  43  44  45  46  47]\n",
      " [ 48  49  50  51  52  53  54  55]\n",
      " [ 56  57  58  59  60  61  62  63]\n",
      " [ 64  65  66  67  68  69  70  71]\n",
      " [ 72  73  74  75  76  77  78  79]\n",
      " [ 80  81  82  83  84  85  86  87]\n",
      " [ 88  89  90  91  92  93  94  95]\n",
      " [ 96  97  98  99 100 101 102 103]\n",
      " [104 105 106 107 108 109 110 111]\n",
      " [112 113 114 115 116 117 118 119]\n",
      " [120 121 122 123 124 125 126 127]\n",
      " [128 129 130 131 132 133 134 135]\n",
      " [136 137 138 139 140 141 142 143]\n",
      " [144 145 146 147 148 149 150 151]\n",
      " [152 153 154 155 156 157 158 159]\n",
      " [160 161 162 163 164 165 166 167]\n",
      " [168 169 170 171 172 173 174 175]\n",
      " [176 177 178 179 180 181 182 183]\n",
      " [184 185 186 187 188 189 190 191]\n",
      " [192 193 194 195 196 197 198 199]]\n"
     ]
    }
   ],
   "source": [
    "arr_2 = np.arange(200).reshape(25, 8)\n",
    "print(\"2d array :\")\n",
    "print(\"    type:\",type(arr_2))\n",
    "print(\"    dtype:\", arr_2.dtype)\n",
    "print(\"    shape:\", arr_2.shape)\n",
    "\n",
    "print(\"arr_2:\\n\", arr_2)"
   ]
  },
  {
   "cell_type": "code",
   "execution_count": 17,
   "metadata": {},
   "outputs": [],
   "source": [
    "# store row fistly, then column , storage format is correct\n",
    "file=open(\"coefficient_file/2d_ndarray_test.txt\", \"w\")\n",
    "np.savetxt(file, arr_2[:, :], delimiter=\"\\n\")\n",
    "file.close()"
   ]
  },
  {
   "cell_type": "code",
   "execution_count": 18,
   "metadata": {},
   "outputs": [],
   "source": [
    "file=open(\"coefficient_file/2d_ndarray_test_1.txt\", \"w\")\n",
    "# iterating by row\n",
    "for i in range(arr_2.shape[0]):\n",
    "    np.savetxt(file, arr_2[i, :])\n",
    "file.close()"
   ]
  },
  {
   "cell_type": "code",
   "execution_count": null,
   "metadata": {},
   "outputs": [],
   "source": []
  }
 ],
 "metadata": {
  "kernelspec": {
   "display_name": "tensorflow",
   "language": "python",
   "name": "tensorflow"
  },
  "language_info": {
   "codemirror_mode": {
    "name": "ipython",
    "version": 3
   },
   "file_extension": ".py",
   "mimetype": "text/x-python",
   "name": "python",
   "nbconvert_exporter": "python",
   "pygments_lexer": "ipython3",
   "version": "3.6.7"
  }
 },
 "nbformat": 4,
 "nbformat_minor": 2
}

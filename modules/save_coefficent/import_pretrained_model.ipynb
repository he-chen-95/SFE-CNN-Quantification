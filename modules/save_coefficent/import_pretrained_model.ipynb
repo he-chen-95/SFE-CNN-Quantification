{
 "cells": [
  {
   "cell_type": "code",
   "execution_count": 1,
   "metadata": {},
   "outputs": [],
   "source": [
    "import tensorflow as tf"
   ]
  },
  {
   "cell_type": "markdown",
   "metadata": {},
   "source": [
    "#### import a pretrained model\n",
    "you can create the network by writting python code manually as the original model. Or we can use .meta file to create the network"
   ]
  },
  {
   "cell_type": "code",
   "execution_count": 6,
   "metadata": {},
   "outputs": [
    {
     "name": "stdout",
     "output_type": "stream",
     "text": [
      "INFO:tensorflow:Restoring parameters from checkpoints/model.ckpt-9841\n"
     ]
    }
   ],
   "source": [
    "with tf.Session() as sess:\n",
    "    # clear_device=True,在其他设备上恢复meta信息。因为有些设备(ex. gpu-1)不存在，\n",
    "    # 首先清除设备信息\n",
    "    \n",
    "    saver = tf.train.import_meta_graph(\"checkpoints/model.ckpt-9841.meta\")\n",
    "    saver.restore(sess, tf.train.latest_checkpoint(\"checkpoints/\"))\n",
    "    # print some restored variables\n",
    "    #print(sess.run(\"w_conv_1:0\"))\n",
    "# model has been restored"
   ]
  },
  {
   "cell_type": "markdown",
   "metadata": {},
   "source": [
    "#### working with pretrained model"
   ]
  },
  {
   "cell_type": "code",
   "execution_count": 11,
   "metadata": {},
   "outputs": [
    {
     "name": "stdout",
     "output_type": "stream",
     "text": [
      "w_conv_1: Tensor(\"w_conv_1:0\", shape=(5, 5, 1, 16), dtype=float32_ref)\n"
     ]
    }
   ],
   "source": [
    "# prepare placeholder to load saved variables\n",
    "w_conv_1 = tf.placeholder(\"float32\", name=\"w_conv_1\")\n",
    "# get saved variables\n",
    "with tf.Session() as sess:\n",
    "    w_conv_1 = sess.graph.get_tensor_by_name(\"w_conv_1:0\")\n",
    "    print(\"w_conv_1:\", w_conv_1)"
   ]
  },
  {
   "cell_type": "code",
   "execution_count": null,
   "metadata": {},
   "outputs": [],
   "source": []
  }
 ],
 "metadata": {
  "kernelspec": {
   "display_name": "tensorflow",
   "language": "python",
   "name": "tensorflow"
  },
  "language_info": {
   "codemirror_mode": {
    "name": "ipython",
    "version": 3
   },
   "file_extension": ".py",
   "mimetype": "text/x-python",
   "name": "python",
   "nbconvert_exporter": "python",
   "pygments_lexer": "ipython3",
   "version": "3.6.7"
  }
 },
 "nbformat": 4,
 "nbformat_minor": 2
}

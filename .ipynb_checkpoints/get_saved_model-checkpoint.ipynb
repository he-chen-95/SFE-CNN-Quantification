{
 "cells": [
  {
   "cell_type": "code",
   "execution_count": 1,
   "metadata": {},
   "outputs": [
    {
     "name": "stdout",
     "output_type": "stream",
     "text": [
      "INFO:tensorflow:Restoring parameters from checkpoints/model.ckpt-8201\n"
     ]
    }
   ],
   "source": [
    "import tensorflow as tf\n",
    "import os\n",
    "\n",
    "model_dir = 'checkpoints/'\n",
    "checkpoint_path = os.path.join(model_dir, \"model.ckpt-8201\")\n",
    "\n",
    "graph = tf.get_default_graph()\n",
    "with tf.Session() as sess:\n",
    "    saver = tf.train.import_meta_graph(\"checkpoints/model.ckpt-8201.meta\")\n",
    "    saver.restore(sess, checkpoint_path)"
   ]
  },
  {
   "cell_type": "code",
   "execution_count": 2,
   "metadata": {},
   "outputs": [],
   "source": [
    "from modules.mnist import MNIST\n",
    "data = MNIST(data_dir=\"data/MNIST/\")\n",
    "\n",
    "# The number of pixels in each dimension of an image.\n",
    "img_size = data.img_size\n",
    "\n",
    "# The images are stored in one-dimensional arrays of this length.\n",
    "img_size_flat = data.img_size_flat\n",
    "\n",
    "# Tuple with height and width of images used to reshape arrays.\n",
    "img_shape = data.img_shape\n",
    "\n",
    "# Number of classes, one class for each of 10 digits.\n",
    "num_classes = data.num_classes\n",
    "\n",
    "# Number of colour channels for the images: 1 channel for gray-scale.\n",
    "num_channels = data.num_channels"
   ]
  },
  {
   "cell_type": "code",
   "execution_count": 8,
   "metadata": {},
   "outputs": [
    {
     "name": "stdout",
     "output_type": "stream",
     "text": [
      "x_input_data: Tensor(\"x_input_data:0\", shape=(?, 784), dtype=float32)\n",
      "y_label_data: Tensor(\"y_label_data:0\", shape=(?, 10), dtype=float32)\n",
      "output_layer: Tensor(\"layer_dropout/w_plus_b:0\", shape=(?, 10), dtype=float32)\n",
      "y_pred: Tensor(\"softmax/Softmax:0\", shape=(?, 10), dtype=float32)\n",
      "w_conv_1: Tensor(\"w_conv_1:0\", shape=(5, 5, 1, 16), dtype=float32_ref)\n",
      "w_conv_2: Tensor(\"w_conv_2:0\", shape=(5, 5, 16, 36), dtype=float32_ref)\n"
     ]
    }
   ],
   "source": [
    "# get saved variables\n",
    "with tf.Session() as sess:\n",
    "    # placeholder variables\n",
    "    x = sess.graph.get_tensor_by_name(\"x_input_data:0\")\n",
    "    x_image = sess.graph.get_tensor_by_name(\"Reshape:0\")\n",
    "    y_true = sess.graph.get_tensor_by_name(\"y_label_data:0\")\n",
    "    y_true_cls = sess.graph.get_tensor_by_name(\"ArgMax:0\")\n",
    "    \n",
    "    logits = sess.graph.get_tensor_by_name(\"layer_dropout/w_plus_b:0\")\n",
    "    y_pred = sess.graph.get_tensor_by_name(\"softmax/Softmax:0\")\n",
    "    y_pred_cls = sess.graph.get_tensor_by_name(\"ArgMax_1:0\")\n",
    "    loss = sess.graph.get_tensor_by_name(\"cost/Mean:0\")\n",
    "    w_conv_1 = sess.graph.get_tensor_by_name(\"w_conv_1:0\")\n",
    "    w_conv_2 = sess.graph.get_tensor_by_name(\"w_conv_2:0\")\n",
    "    \n",
    "    \n",
    "    print(\"x_input_data:\", x)\n",
    "    print(\"y_label_data:\", y_true)\n",
    "    print(\"output_layer:\", output_layer)\n",
    "    print(\"y_pred:\", y_pred)\n",
    "    print(\"w_conv_1:\", w_conv_1)\n",
    "    print(\"w_conv_2:\", w_conv_2)\n",
    "    \n",
    "\n",
    "y_true_cls = tf.argmax(y_true, axis=1)"
   ]
  },
  {
   "cell_type": "code",
   "execution_count": null,
   "metadata": {},
   "outputs": [],
   "source": [
    "from modules.plot_functions import plot_image\n",
    "from modules.plot_functions import plot_images\n",
    "from modules.plot_functions import plot_images_10\n",
    "\n",
    "# Plot a few images to see if data is correct\n",
    "\n",
    "# Get the first images from the test-set.\n",
    "images = data.x_test[0:9]\n",
    "\n",
    "# Get the true classes for those images.\n",
    "cls_true = data.y_test_cls[0:9]\n",
    "\n",
    "# Plot the images and labels using our helper-function above.\n",
    "plot_images(images=images, cls_true=cls_true)"
   ]
  },
  {
   "cell_type": "code",
   "execution_count": null,
   "metadata": {},
   "outputs": [],
   "source": []
  }
 ],
 "metadata": {
  "kernelspec": {
   "display_name": "tensorflow",
   "language": "python",
   "name": "tensorflow"
  },
  "language_info": {
   "codemirror_mode": {
    "name": "ipython",
    "version": 3
   },
   "file_extension": ".py",
   "mimetype": "text/x-python",
   "name": "python",
   "nbconvert_exporter": "python",
   "pygments_lexer": "ipython3",
   "version": "3.6.7"
  }
 },
 "nbformat": 4,
 "nbformat_minor": 2
}

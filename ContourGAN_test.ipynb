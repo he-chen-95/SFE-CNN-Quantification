{
 "cells": [
  {
   "cell_type": "code",
   "execution_count": 12,
   "metadata": {},
   "outputs": [
    {
     "name": "stdout",
     "output_type": "stream",
     "text": [
      " [*] Reading checkpoint... /home/charles/Workspace/tensorflow_tutoral/Test/checkpoints\n",
      "\n",
      "ckpt file:\n",
      " model_checkpoint_path: \"/home/charles/Workspace/tensorflow_tutoral/Test/checkpoints/model.ckpt-9941\"\n",
      "all_model_checkpoint_paths: \"/home/charles/Workspace/tensorflow_tutoral/Test/checkpoints/model.ckpt-4981\"\n",
      "all_model_checkpoint_paths: \"/home/charles/Workspace/tensorflow_tutoral/Test/checkpoints/model.ckpt-5181\"\n",
      "all_model_checkpoint_paths: \"/home/charles/Workspace/tensorflow_tutoral/Test/checkpoints/model.ckpt-6581\"\n",
      "all_model_checkpoint_paths: \"/home/charles/Workspace/tensorflow_tutoral/Test/checkpoints/model.ckpt-6941\"\n",
      "all_model_checkpoint_paths: \"/home/charles/Workspace/tensorflow_tutoral/Test/checkpoints/model.ckpt-9941\"\n",
      "\n",
      "\n",
      "model ckpt path /home/charles/Workspace/tensorflow_tutoral/Test/checkpoints/model.ckpt-9941\n",
      "\n",
      "ckpt name: model.ckpt-9941\n",
      "INFO:tensorflow:Restoring parameters from checkpoints/model.ckpt-8201\n",
      "counter: 9941\n",
      " [*] Success to read model.ckpt-9941)\n"
     ]
    }
   ],
   "source": [
    "import tensorflow as tf\n",
    "import os\n",
    "\n",
    "\n",
    "\n",
    "model_dir = 'checkpoints/'\n",
    "checkpoint_path = os.path.join(model_dir, \"model.ckpt-8201\")\n",
    "\n",
    "graph = tf.get_default_graph()\n",
    "with tf.Session() as sess:\n",
    "    print(\" [*] Reading checkpoint...\", checkpoint_dir)\n",
    "    ckpt = tf.train.get_checkpoint_state(checkpoint_dir)\n",
    "    print(\"\\nckpt file:\\n\", ckpt)\n",
    "    if ckpt and ckpt.model_checkpoint_path:\n",
    "        print(\"\\nmodel ckpt path\", ckpt.model_checkpoint_path)\n",
    "        ckpt_name = os.path.basename(ckpt.model_checkpoint_path)\n",
    "        print(\"\\nckpt name:\", ckpt_name)\n",
    "        saver = tf.train.import_meta_graph(\"checkpoints/model.ckpt-8201.meta\")\n",
    "        saver.restore(sess, checkpoint_path)\n",
    "        # tf.saver.restore(self.sess, os.path.join(checkpoint_dir, ckpt_name))\n",
    "        counter = int(ckpt_name.split('-')[-1])\n",
    "        print(\"counter:\", counter)\n",
    "        print(\" [*] Success to read {})\".format(ckpt_name))\n",
    "    else:\n",
    "        print(\" [*] Failed to find a check point\")"
   ]
  },
  {
   "cell_type": "code",
   "execution_count": 29,
   "metadata": {},
   "outputs": [],
   "source": [
    "import cv2\n",
    "def imread(path, grayscale = False):\n",
    "  if (grayscale):\n",
    "    return scipy.misc.imread(path, flatten = True).astype(np.float)\n",
    "  else:\n",
    "    # Reference: https://github.com/carpedm20/DCGAN-tensorflow/issues/162#issuecomment-315519747\n",
    "    img_bgr = cv2.imread(path)\n",
    "    # Reference: https://stackoverflow.com/a/15074748/\n",
    "    img_rgb = img_bgr[..., ::-1]\n",
    "    return img_rgb.astype(np.float)"
   ]
  },
  {
   "cell_type": "code",
   "execution_count": 31,
   "metadata": {},
   "outputs": [
    {
     "name": "stdout",
     "output_type": "stream",
     "text": [
      "data_path: /home/charles/data/HED-BSDS/train/aug_data/0.0_1_0/*.jpg\n",
      "300\n",
      "data:\n",
      " ['/home/charles/data/HED-BSDS/train/aug_data/0.0_1_0/210088.jpg', '/home/charles/data/HED-BSDS/train/aug_data/0.0_1_0/145014.jpg', '/home/charles/data/HED-BSDS/train/aug_data/0.0_1_0/135037.jpg', '/home/charles/data/HED-BSDS/train/aug_data/0.0_1_0/285036.jpg', '/home/charles/data/HED-BSDS/train/aug_data/0.0_1_0/59078.jpg', '/home/charles/data/HED-BSDS/train/aug_data/0.0_1_0/15088.jpg', '/home/charles/data/HED-BSDS/train/aug_data/0.0_1_0/68077.jpg', '/home/charles/data/HED-BSDS/train/aug_data/0.0_1_0/376001.jpg', '/home/charles/data/HED-BSDS/train/aug_data/0.0_1_0/285079.jpg', '/home/charles/data/HED-BSDS/train/aug_data/0.0_1_0/65010.jpg', '/home/charles/data/HED-BSDS/train/aug_data/0.0_1_0/126007.jpg', '/home/charles/data/HED-BSDS/train/aug_data/0.0_1_0/219090.jpg', '/home/charles/data/HED-BSDS/train/aug_data/0.0_1_0/28075.jpg', '/home/charles/data/HED-BSDS/train/aug_data/0.0_1_0/181091.jpg', '/home/charles/data/HED-BSDS/train/aug_data/0.0_1_0/183087.jpg', '/home/charles/data/HED-BSDS/train/aug_data/0.0_1_0/58060.jpg', '/home/charles/data/HED-BSDS/train/aug_data/0.0_1_0/66053.jpg', '/home/charles/data/HED-BSDS/train/aug_data/0.0_1_0/236037.jpg', '/home/charles/data/HED-BSDS/train/aug_data/0.0_1_0/138078.jpg', '/home/charles/data/HED-BSDS/train/aug_data/0.0_1_0/274007.jpg', '/home/charles/data/HED-BSDS/train/aug_data/0.0_1_0/42012.jpg', '/home/charles/data/HED-BSDS/train/aug_data/0.0_1_0/236017.jpg', '/home/charles/data/HED-BSDS/train/aug_data/0.0_1_0/89072.jpg', '/home/charles/data/HED-BSDS/train/aug_data/0.0_1_0/48055.jpg', '/home/charles/data/HED-BSDS/train/aug_data/0.0_1_0/113044.jpg', '/home/charles/data/HED-BSDS/train/aug_data/0.0_1_0/178054.jpg', '/home/charles/data/HED-BSDS/train/aug_data/0.0_1_0/55073.jpg', '/home/charles/data/HED-BSDS/train/aug_data/0.0_1_0/175032.jpg', '/home/charles/data/HED-BSDS/train/aug_data/0.0_1_0/90076.jpg', '/home/charles/data/HED-BSDS/train/aug_data/0.0_1_0/153077.jpg', '/home/charles/data/HED-BSDS/train/aug_data/0.0_1_0/12084.jpg', '/home/charles/data/HED-BSDS/train/aug_data/0.0_1_0/100080.jpg', '/home/charles/data/HED-BSDS/train/aug_data/0.0_1_0/385028.jpg', '/home/charles/data/HED-BSDS/train/aug_data/0.0_1_0/304034.jpg', '/home/charles/data/HED-BSDS/train/aug_data/0.0_1_0/253055.jpg', '/home/charles/data/HED-BSDS/train/aug_data/0.0_1_0/163062.jpg', '/home/charles/data/HED-BSDS/train/aug_data/0.0_1_0/41033.jpg', '/home/charles/data/HED-BSDS/train/aug_data/0.0_1_0/176019.jpg', '/home/charles/data/HED-BSDS/train/aug_data/0.0_1_0/112082.jpg', '/home/charles/data/HED-BSDS/train/aug_data/0.0_1_0/351093.jpg', '/home/charles/data/HED-BSDS/train/aug_data/0.0_1_0/113009.jpg', '/home/charles/data/HED-BSDS/train/aug_data/0.0_1_0/67079.jpg', '/home/charles/data/HED-BSDS/train/aug_data/0.0_1_0/374020.jpg', '/home/charles/data/HED-BSDS/train/aug_data/0.0_1_0/239096.jpg', '/home/charles/data/HED-BSDS/train/aug_data/0.0_1_0/187071.jpg', '/home/charles/data/HED-BSDS/train/aug_data/0.0_1_0/123074.jpg', '/home/charles/data/HED-BSDS/train/aug_data/0.0_1_0/24077.jpg', '/home/charles/data/HED-BSDS/train/aug_data/0.0_1_0/161062.jpg', '/home/charles/data/HED-BSDS/train/aug_data/0.0_1_0/22093.jpg', '/home/charles/data/HED-BSDS/train/aug_data/0.0_1_0/86068.jpg', '/home/charles/data/HED-BSDS/train/aug_data/0.0_1_0/370036.jpg', '/home/charles/data/HED-BSDS/train/aug_data/0.0_1_0/108082.jpg', '/home/charles/data/HED-BSDS/train/aug_data/0.0_1_0/143090.jpg', '/home/charles/data/HED-BSDS/train/aug_data/0.0_1_0/147021.jpg', '/home/charles/data/HED-BSDS/train/aug_data/0.0_1_0/361084.jpg', '/home/charles/data/HED-BSDS/train/aug_data/0.0_1_0/209070.jpg', '/home/charles/data/HED-BSDS/train/aug_data/0.0_1_0/388016.jpg', '/home/charles/data/HED-BSDS/train/aug_data/0.0_1_0/41069.jpg', '/home/charles/data/HED-BSDS/train/aug_data/0.0_1_0/295087.jpg', '/home/charles/data/HED-BSDS/train/aug_data/0.0_1_0/117054.jpg', '/home/charles/data/HED-BSDS/train/aug_data/0.0_1_0/148026.jpg', '/home/charles/data/HED-BSDS/train/aug_data/0.0_1_0/246016.jpg', '/home/charles/data/HED-BSDS/train/aug_data/0.0_1_0/323016.jpg', '/home/charles/data/HED-BSDS/train/aug_data/0.0_1_0/87046.jpg', '/home/charles/data/HED-BSDS/train/aug_data/0.0_1_0/65074.jpg', '/home/charles/data/HED-BSDS/train/aug_data/0.0_1_0/254033.jpg', '/home/charles/data/HED-BSDS/train/aug_data/0.0_1_0/238011.jpg', '/home/charles/data/HED-BSDS/train/aug_data/0.0_1_0/147091.jpg', '/home/charles/data/HED-BSDS/train/aug_data/0.0_1_0/100098.jpg', '/home/charles/data/HED-BSDS/train/aug_data/0.0_1_0/69015.jpg', '/home/charles/data/HED-BSDS/train/aug_data/0.0_1_0/12074.jpg', '/home/charles/data/HED-BSDS/train/aug_data/0.0_1_0/35058.jpg', '/home/charles/data/HED-BSDS/train/aug_data/0.0_1_0/239007.jpg', '/home/charles/data/HED-BSDS/train/aug_data/0.0_1_0/216053.jpg', '/home/charles/data/HED-BSDS/train/aug_data/0.0_1_0/151087.jpg', '/home/charles/data/HED-BSDS/train/aug_data/0.0_1_0/299091.jpg', '/home/charles/data/HED-BSDS/train/aug_data/0.0_1_0/216081.jpg', '/home/charles/data/HED-BSDS/train/aug_data/0.0_1_0/145086.jpg', '/home/charles/data/HED-BSDS/train/aug_data/0.0_1_0/326038.jpg', '/home/charles/data/HED-BSDS/train/aug_data/0.0_1_0/232038.jpg', '/home/charles/data/HED-BSDS/train/aug_data/0.0_1_0/225017.jpg', '/home/charles/data/HED-BSDS/train/aug_data/0.0_1_0/309004.jpg', '/home/charles/data/HED-BSDS/train/aug_data/0.0_1_0/254054.jpg', '/home/charles/data/HED-BSDS/train/aug_data/0.0_1_0/314016.jpg', '/home/charles/data/HED-BSDS/train/aug_data/0.0_1_0/365073.jpg', '/home/charles/data/HED-BSDS/train/aug_data/0.0_1_0/108073.jpg', '/home/charles/data/HED-BSDS/train/aug_data/0.0_1_0/25098.jpg', '/home/charles/data/HED-BSDS/train/aug_data/0.0_1_0/189080.jpg', '/home/charles/data/HED-BSDS/train/aug_data/0.0_1_0/80099.jpg', '/home/charles/data/HED-BSDS/train/aug_data/0.0_1_0/104022.jpg', '/home/charles/data/HED-BSDS/train/aug_data/0.0_1_0/302003.jpg', '/home/charles/data/HED-BSDS/train/aug_data/0.0_1_0/202012.jpg', '/home/charles/data/HED-BSDS/train/aug_data/0.0_1_0/249087.jpg', '/home/charles/data/HED-BSDS/train/aug_data/0.0_1_0/207056.jpg', '/home/charles/data/HED-BSDS/train/aug_data/0.0_1_0/33066.jpg', '/home/charles/data/HED-BSDS/train/aug_data/0.0_1_0/8143.jpg', '/home/charles/data/HED-BSDS/train/aug_data/0.0_1_0/304074.jpg', '/home/charles/data/HED-BSDS/train/aug_data/0.0_1_0/245051.jpg', '/home/charles/data/HED-BSDS/train/aug_data/0.0_1_0/26031.jpg', '/home/charles/data/HED-BSDS/train/aug_data/0.0_1_0/148089.jpg', '/home/charles/data/HED-BSDS/train/aug_data/0.0_1_0/170057.jpg', '/home/charles/data/HED-BSDS/train/aug_data/0.0_1_0/56028.jpg', '/home/charles/data/HED-BSDS/train/aug_data/0.0_1_0/86000.jpg', '/home/charles/data/HED-BSDS/train/aug_data/0.0_1_0/24063.jpg', '/home/charles/data/HED-BSDS/train/aug_data/0.0_1_0/35070.jpg', '/home/charles/data/HED-BSDS/train/aug_data/0.0_1_0/35010.jpg', '/home/charles/data/HED-BSDS/train/aug_data/0.0_1_0/109034.jpg', '/home/charles/data/HED-BSDS/train/aug_data/0.0_1_0/8049.jpg', '/home/charles/data/HED-BSDS/train/aug_data/0.0_1_0/8023.jpg', '/home/charles/data/HED-BSDS/train/aug_data/0.0_1_0/43070.jpg', '/home/charles/data/HED-BSDS/train/aug_data/0.0_1_0/145053.jpg', '/home/charles/data/HED-BSDS/train/aug_data/0.0_1_0/27059.jpg', '/home/charles/data/HED-BSDS/train/aug_data/0.0_1_0/188091.jpg', '/home/charles/data/HED-BSDS/train/aug_data/0.0_1_0/361010.jpg', '/home/charles/data/HED-BSDS/train/aug_data/0.0_1_0/20008.jpg', '/home/charles/data/HED-BSDS/train/aug_data/0.0_1_0/182053.jpg', '/home/charles/data/HED-BSDS/train/aug_data/0.0_1_0/85048.jpg', '/home/charles/data/HED-BSDS/train/aug_data/0.0_1_0/28096.jpg', '/home/charles/data/HED-BSDS/train/aug_data/0.0_1_0/2092.jpg', '/home/charles/data/HED-BSDS/train/aug_data/0.0_1_0/231015.jpg', '/home/charles/data/HED-BSDS/train/aug_data/0.0_1_0/365025.jpg', '/home/charles/data/HED-BSDS/train/aug_data/0.0_1_0/66039.jpg', '/home/charles/data/HED-BSDS/train/aug_data/0.0_1_0/198023.jpg', '/home/charles/data/HED-BSDS/train/aug_data/0.0_1_0/101085.jpg', '/home/charles/data/HED-BSDS/train/aug_data/0.0_1_0/241004.jpg', '/home/charles/data/HED-BSDS/train/aug_data/0.0_1_0/157055.jpg', '/home/charles/data/HED-BSDS/train/aug_data/0.0_1_0/92059.jpg', '/home/charles/data/HED-BSDS/train/aug_data/0.0_1_0/169012.jpg', '/home/charles/data/HED-BSDS/train/aug_data/0.0_1_0/311081.jpg', '/home/charles/data/HED-BSDS/train/aug_data/0.0_1_0/163085.jpg', '/home/charles/data/HED-BSDS/train/aug_data/0.0_1_0/368016.jpg', '/home/charles/data/HED-BSDS/train/aug_data/0.0_1_0/300091.jpg', '/home/charles/data/HED-BSDS/train/aug_data/0.0_1_0/46076.jpg', '/home/charles/data/HED-BSDS/train/aug_data/0.0_1_0/249061.jpg', '/home/charles/data/HED-BSDS/train/aug_data/0.0_1_0/292066.jpg', '/home/charles/data/HED-BSDS/train/aug_data/0.0_1_0/247085.jpg', '/home/charles/data/HED-BSDS/train/aug_data/0.0_1_0/296007.jpg', '/home/charles/data/HED-BSDS/train/aug_data/0.0_1_0/196015.jpg', '/home/charles/data/HED-BSDS/train/aug_data/0.0_1_0/144067.jpg', '/home/charles/data/HED-BSDS/train/aug_data/0.0_1_0/101087.jpg', '/home/charles/data/HED-BSDS/train/aug_data/0.0_1_0/188005.jpg', '/home/charles/data/HED-BSDS/train/aug_data/0.0_1_0/260058.jpg', '/home/charles/data/HED-BSDS/train/aug_data/0.0_1_0/42049.jpg', '/home/charles/data/HED-BSDS/train/aug_data/0.0_1_0/78004.jpg', '/home/charles/data/HED-BSDS/train/aug_data/0.0_1_0/189011.jpg', '/home/charles/data/HED-BSDS/train/aug_data/0.0_1_0/95006.jpg', '/home/charles/data/HED-BSDS/train/aug_data/0.0_1_0/242078.jpg', '/home/charles/data/HED-BSDS/train/aug_data/0.0_1_0/198004.jpg', '/home/charles/data/HED-BSDS/train/aug_data/0.0_1_0/118035.jpg', '/home/charles/data/HED-BSDS/train/aug_data/0.0_1_0/108041.jpg', '/home/charles/data/HED-BSDS/train/aug_data/0.0_1_0/3096.jpg', '/home/charles/data/HED-BSDS/train/aug_data/0.0_1_0/317080.jpg', '/home/charles/data/HED-BSDS/train/aug_data/0.0_1_0/130026.jpg', '/home/charles/data/HED-BSDS/train/aug_data/0.0_1_0/271008.jpg', '/home/charles/data/HED-BSDS/train/aug_data/0.0_1_0/37073.jpg', '/home/charles/data/HED-BSDS/train/aug_data/0.0_1_0/163014.jpg', '/home/charles/data/HED-BSDS/train/aug_data/0.0_1_0/156065.jpg', '/home/charles/data/HED-BSDS/train/aug_data/0.0_1_0/187039.jpg', '/home/charles/data/HED-BSDS/train/aug_data/0.0_1_0/113016.jpg', '/home/charles/data/HED-BSDS/train/aug_data/0.0_1_0/187029.jpg', '/home/charles/data/HED-BSDS/train/aug_data/0.0_1_0/100075.jpg', '/home/charles/data/HED-BSDS/train/aug_data/0.0_1_0/130034.jpg', '/home/charles/data/HED-BSDS/train/aug_data/0.0_1_0/253036.jpg', '/home/charles/data/HED-BSDS/train/aug_data/0.0_1_0/372047.jpg', '/home/charles/data/HED-BSDS/train/aug_data/0.0_1_0/227092.jpg', '/home/charles/data/HED-BSDS/train/aug_data/0.0_1_0/45096.jpg', '/home/charles/data/HED-BSDS/train/aug_data/0.0_1_0/71046.jpg', '/home/charles/data/HED-BSDS/train/aug_data/0.0_1_0/16077.jpg', '/home/charles/data/HED-BSDS/train/aug_data/0.0_1_0/54005.jpg', '/home/charles/data/HED-BSDS/train/aug_data/0.0_1_0/299086.jpg', '/home/charles/data/HED-BSDS/train/aug_data/0.0_1_0/126039.jpg', '/home/charles/data/HED-BSDS/train/aug_data/0.0_1_0/140055.jpg', '/home/charles/data/HED-BSDS/train/aug_data/0.0_1_0/19021.jpg', '/home/charles/data/HED-BSDS/train/aug_data/0.0_1_0/197017.jpg', '/home/charles/data/HED-BSDS/train/aug_data/0.0_1_0/181018.jpg', '/home/charles/data/HED-BSDS/train/aug_data/0.0_1_0/38082.jpg', '/home/charles/data/HED-BSDS/train/aug_data/0.0_1_0/216041.jpg', '/home/charles/data/HED-BSDS/train/aug_data/0.0_1_0/187083.jpg', '/home/charles/data/HED-BSDS/train/aug_data/0.0_1_0/38092.jpg', '/home/charles/data/HED-BSDS/train/aug_data/0.0_1_0/268002.jpg', '/home/charles/data/HED-BSDS/train/aug_data/0.0_1_0/135069.jpg', '/home/charles/data/HED-BSDS/train/aug_data/0.0_1_0/164074.jpg', '/home/charles/data/HED-BSDS/train/aug_data/0.0_1_0/65033.jpg', '/home/charles/data/HED-BSDS/train/aug_data/0.0_1_0/65019.jpg', '/home/charles/data/HED-BSDS/train/aug_data/0.0_1_0/35008.jpg', '/home/charles/data/HED-BSDS/train/aug_data/0.0_1_0/86016.jpg', '/home/charles/data/HED-BSDS/train/aug_data/0.0_1_0/253027.jpg', '/home/charles/data/HED-BSDS/train/aug_data/0.0_1_0/176035.jpg', '/home/charles/data/HED-BSDS/train/aug_data/0.0_1_0/43083.jpg', '/home/charles/data/HED-BSDS/train/aug_data/0.0_1_0/374067.jpg', '/home/charles/data/HED-BSDS/train/aug_data/0.0_1_0/220075.jpg', '/home/charles/data/HED-BSDS/train/aug_data/0.0_1_0/385039.jpg', '/home/charles/data/HED-BSDS/train/aug_data/0.0_1_0/293029.jpg', '/home/charles/data/HED-BSDS/train/aug_data/0.0_1_0/118020.jpg', '/home/charles/data/HED-BSDS/train/aug_data/0.0_1_0/229036.jpg', '/home/charles/data/HED-BSDS/train/aug_data/0.0_1_0/42044.jpg', '/home/charles/data/HED-BSDS/train/aug_data/0.0_1_0/134035.jpg', '/home/charles/data/HED-BSDS/train/aug_data/0.0_1_0/227046.jpg', '/home/charles/data/HED-BSDS/train/aug_data/0.0_1_0/87065.jpg', '/home/charles/data/HED-BSDS/train/aug_data/0.0_1_0/291000.jpg', '/home/charles/data/HED-BSDS/train/aug_data/0.0_1_0/33039.jpg', '/home/charles/data/HED-BSDS/train/aug_data/0.0_1_0/124084.jpg', '/home/charles/data/HED-BSDS/train/aug_data/0.0_1_0/176039.jpg', '/home/charles/data/HED-BSDS/train/aug_data/0.0_1_0/246053.jpg', '/home/charles/data/HED-BSDS/train/aug_data/0.0_1_0/69040.jpg', '/home/charles/data/HED-BSDS/train/aug_data/0.0_1_0/353013.jpg', '/home/charles/data/HED-BSDS/train/aug_data/0.0_1_0/97033.jpg', '/home/charles/data/HED-BSDS/train/aug_data/0.0_1_0/181079.jpg', '/home/charles/data/HED-BSDS/train/aug_data/0.0_1_0/106024.jpg', '/home/charles/data/HED-BSDS/train/aug_data/0.0_1_0/172032.jpg', '/home/charles/data/HED-BSDS/train/aug_data/0.0_1_0/260081.jpg', '/home/charles/data/HED-BSDS/train/aug_data/0.0_1_0/170054.jpg', '/home/charles/data/HED-BSDS/train/aug_data/0.0_1_0/188063.jpg', '/home/charles/data/HED-BSDS/train/aug_data/0.0_1_0/134008.jpg', '/home/charles/data/HED-BSDS/train/aug_data/0.0_1_0/43074.jpg', '/home/charles/data/HED-BSDS/train/aug_data/0.0_1_0/41004.jpg', '/home/charles/data/HED-BSDS/train/aug_data/0.0_1_0/271035.jpg', '/home/charles/data/HED-BSDS/train/aug_data/0.0_1_0/23025.jpg', '/home/charles/data/HED-BSDS/train/aug_data/0.0_1_0/227040.jpg', '/home/charles/data/HED-BSDS/train/aug_data/0.0_1_0/103070.jpg', '/home/charles/data/HED-BSDS/train/aug_data/0.0_1_0/105053.jpg', '/home/charles/data/HED-BSDS/train/aug_data/0.0_1_0/167083.jpg', '/home/charles/data/HED-BSDS/train/aug_data/0.0_1_0/76002.jpg', '/home/charles/data/HED-BSDS/train/aug_data/0.0_1_0/21077.jpg', '/home/charles/data/HED-BSDS/train/aug_data/0.0_1_0/159045.jpg', '/home/charles/data/HED-BSDS/train/aug_data/0.0_1_0/376020.jpg', '/home/charles/data/HED-BSDS/train/aug_data/0.0_1_0/159029.jpg', '/home/charles/data/HED-BSDS/train/aug_data/0.0_1_0/241048.jpg', '/home/charles/data/HED-BSDS/train/aug_data/0.0_1_0/157036.jpg', '/home/charles/data/HED-BSDS/train/aug_data/0.0_1_0/41025.jpg', '/home/charles/data/HED-BSDS/train/aug_data/0.0_1_0/122048.jpg', '/home/charles/data/HED-BSDS/train/aug_data/0.0_1_0/183055.jpg', '/home/charles/data/HED-BSDS/train/aug_data/0.0_1_0/54082.jpg', '/home/charles/data/HED-BSDS/train/aug_data/0.0_1_0/65132.jpg', '/home/charles/data/HED-BSDS/train/aug_data/0.0_1_0/108005.jpg', '/home/charles/data/HED-BSDS/train/aug_data/0.0_1_0/55067.jpg', '/home/charles/data/HED-BSDS/train/aug_data/0.0_1_0/22090.jpg', '/home/charles/data/HED-BSDS/train/aug_data/0.0_1_0/66075.jpg', '/home/charles/data/HED-BSDS/train/aug_data/0.0_1_0/155060.jpg', '/home/charles/data/HED-BSDS/train/aug_data/0.0_1_0/23080.jpg', '/home/charles/data/HED-BSDS/train/aug_data/0.0_1_0/97017.jpg', '/home/charles/data/HED-BSDS/train/aug_data/0.0_1_0/103041.jpg', '/home/charles/data/HED-BSDS/train/aug_data/0.0_1_0/61060.jpg', '/home/charles/data/HED-BSDS/train/aug_data/0.0_1_0/208001.jpg', '/home/charles/data/HED-BSDS/train/aug_data/0.0_1_0/216066.jpg', '/home/charles/data/HED-BSDS/train/aug_data/0.0_1_0/106025.jpg', '/home/charles/data/HED-BSDS/train/aug_data/0.0_1_0/296059.jpg', '/home/charles/data/HED-BSDS/train/aug_data/0.0_1_0/310007.jpg', '/home/charles/data/HED-BSDS/train/aug_data/0.0_1_0/286092.jpg', '/home/charles/data/HED-BSDS/train/aug_data/0.0_1_0/16052.jpg', '/home/charles/data/HED-BSDS/train/aug_data/0.0_1_0/368078.jpg', '/home/charles/data/HED-BSDS/train/aug_data/0.0_1_0/24004.jpg', '/home/charles/data/HED-BSDS/train/aug_data/0.0_1_0/198054.jpg', '/home/charles/data/HED-BSDS/train/aug_data/0.0_1_0/23084.jpg', '/home/charles/data/HED-BSDS/train/aug_data/0.0_1_0/166081.jpg', '/home/charles/data/HED-BSDS/train/aug_data/0.0_1_0/62096.jpg', '/home/charles/data/HED-BSDS/train/aug_data/0.0_1_0/138032.jpg', '/home/charles/data/HED-BSDS/train/aug_data/0.0_1_0/175043.jpg', '/home/charles/data/HED-BSDS/train/aug_data/0.0_1_0/301007.jpg', '/home/charles/data/HED-BSDS/train/aug_data/0.0_1_0/271031.jpg', '/home/charles/data/HED-BSDS/train/aug_data/0.0_1_0/167062.jpg', '/home/charles/data/HED-BSDS/train/aug_data/0.0_1_0/76053.jpg', '/home/charles/data/HED-BSDS/train/aug_data/0.0_1_0/173036.jpg', '/home/charles/data/HED-BSDS/train/aug_data/0.0_1_0/156079.jpg', '/home/charles/data/HED-BSDS/train/aug_data/0.0_1_0/189003.jpg', '/home/charles/data/HED-BSDS/train/aug_data/0.0_1_0/105025.jpg', '/home/charles/data/HED-BSDS/train/aug_data/0.0_1_0/12003.jpg', '/home/charles/data/HED-BSDS/train/aug_data/0.0_1_0/109053.jpg', '/home/charles/data/HED-BSDS/train/aug_data/0.0_1_0/140075.jpg', '/home/charles/data/HED-BSDS/train/aug_data/0.0_1_0/102061.jpg', '/home/charles/data/HED-BSDS/train/aug_data/0.0_1_0/153093.jpg', '/home/charles/data/HED-BSDS/train/aug_data/0.0_1_0/159091.jpg', '/home/charles/data/HED-BSDS/train/aug_data/0.0_1_0/60079.jpg', '/home/charles/data/HED-BSDS/train/aug_data/0.0_1_0/69020.jpg', '/home/charles/data/HED-BSDS/train/aug_data/0.0_1_0/119082.jpg', '/home/charles/data/HED-BSDS/train/aug_data/0.0_1_0/14037.jpg', '/home/charles/data/HED-BSDS/train/aug_data/0.0_1_0/277095.jpg', '/home/charles/data/HED-BSDS/train/aug_data/0.0_1_0/134052.jpg', '/home/charles/data/HED-BSDS/train/aug_data/0.0_1_0/61086.jpg', '/home/charles/data/HED-BSDS/train/aug_data/0.0_1_0/223061.jpg', '/home/charles/data/HED-BSDS/train/aug_data/0.0_1_0/78019.jpg', '/home/charles/data/HED-BSDS/train/aug_data/0.0_1_0/45077.jpg', '/home/charles/data/HED-BSDS/train/aug_data/0.0_1_0/376043.jpg', '/home/charles/data/HED-BSDS/train/aug_data/0.0_1_0/55075.jpg', '/home/charles/data/HED-BSDS/train/aug_data/0.0_1_0/187003.jpg', '/home/charles/data/HED-BSDS/train/aug_data/0.0_1_0/105019.jpg', '/home/charles/data/HED-BSDS/train/aug_data/0.0_1_0/196073.jpg', '/home/charles/data/HED-BSDS/train/aug_data/0.0_1_0/159008.jpg', '/home/charles/data/HED-BSDS/train/aug_data/0.0_1_0/108070.jpg', '/home/charles/data/HED-BSDS/train/aug_data/0.0_1_0/35091.jpg', '/home/charles/data/HED-BSDS/train/aug_data/0.0_1_0/42078.jpg', '/home/charles/data/HED-BSDS/train/aug_data/0.0_1_0/22013.jpg', '/home/charles/data/HED-BSDS/train/aug_data/0.0_1_0/94079.jpg', '/home/charles/data/HED-BSDS/train/aug_data/0.0_1_0/302008.jpg', '/home/charles/data/HED-BSDS/train/aug_data/0.0_1_0/311068.jpg', '/home/charles/data/HED-BSDS/train/aug_data/0.0_1_0/306005.jpg', '/home/charles/data/HED-BSDS/train/aug_data/0.0_1_0/147062.jpg', '/home/charles/data/HED-BSDS/train/aug_data/0.0_1_0/160068.jpg', '/home/charles/data/HED-BSDS/train/aug_data/0.0_1_0/106020.jpg', '/home/charles/data/HED-BSDS/train/aug_data/0.0_1_0/15004.jpg']\n",
      "\n",
      "data[0]:\n",
      " /home/charles/data/HED-BSDS/train/aug_data/0.0_1_0/210088.jpg\n"
     ]
    },
    {
     "ename": "AttributeError",
     "evalue": "'str' object has no attribute 'shape'",
     "output_type": "error",
     "traceback": [
      "\u001b[0;31m---------------------------------------------------------------------------\u001b[0m",
      "\u001b[0;31mAttributeError\u001b[0m                            Traceback (most recent call last)",
      "\u001b[0;32m<ipython-input-31-ab1157587ced>\u001b[0m in \u001b[0;36m<module>\u001b[0;34m\u001b[0m\n\u001b[1;32m     18\u001b[0m \u001b[0;32mif\u001b[0m \u001b[0mlen\u001b[0m\u001b[0;34m(\u001b[0m\u001b[0mimreadImg\u001b[0m\u001b[0;34m.\u001b[0m\u001b[0mshape\u001b[0m\u001b[0;34m)\u001b[0m \u001b[0;34m>=\u001b[0m \u001b[0;36m3\u001b[0m\u001b[0;34m:\u001b[0m\u001b[0;34m\u001b[0m\u001b[0;34m\u001b[0m\u001b[0m\n\u001b[1;32m     19\u001b[0m     \u001b[0;31m# c_dim = imread(data[0].shape[-1])\u001b[0m\u001b[0;34m\u001b[0m\u001b[0;34m\u001b[0m\u001b[0;34m\u001b[0m\u001b[0m\n\u001b[0;32m---> 20\u001b[0;31m     \u001b[0mc_dim\u001b[0m \u001b[0;34m=\u001b[0m \u001b[0mimread\u001b[0m\u001b[0;34m(\u001b[0m\u001b[0mdata\u001b[0m\u001b[0;34m[\u001b[0m\u001b[0;36m0\u001b[0m\u001b[0;34m]\u001b[0m\u001b[0;34m.\u001b[0m\u001b[0mshape\u001b[0m\u001b[0;34m[\u001b[0m\u001b[0;34m-\u001b[0m\u001b[0;36m1\u001b[0m\u001b[0;34m]\u001b[0m\u001b[0;34m)\u001b[0m\u001b[0;34m\u001b[0m\u001b[0;34m\u001b[0m\u001b[0m\n\u001b[0m\u001b[1;32m     21\u001b[0m     \u001b[0mprint\u001b[0m\u001b[0;34m(\u001b[0m\u001b[0;34m\"\\nc_dim:\\n\"\u001b[0m\u001b[0;34m,\u001b[0m \u001b[0mc_dim\u001b[0m\u001b[0;34m)\u001b[0m\u001b[0;34m\u001b[0m\u001b[0;34m\u001b[0m\u001b[0m\n\u001b[1;32m     22\u001b[0m \u001b[0;32melse\u001b[0m\u001b[0;34m:\u001b[0m\u001b[0;34m\u001b[0m\u001b[0;34m\u001b[0m\u001b[0m\n",
      "\u001b[0;31mAttributeError\u001b[0m: 'str' object has no attribute 'shape'"
     ]
    }
   ],
   "source": [
    "import numpy as np\n",
    "\n",
    "data_path = \"/home/charles/data/HED-BSDS/train/aug_data/0.0_1_0/*.jpg\"\n",
    "print(\"data_path:\", data_path)\n",
    "# use 'glob' to search specific files. ex. '/data/BSDS/*.jpg'\n",
    "import glob\n",
    "data = glob.glob(data_path)\n",
    "\n",
    "print(len(data))\n",
    "if len(data) == 0:\n",
    "    raise Exception(\"[!] No data found in '\" + data_path + \"'\")\n",
    "# modify a sequence in-place.\n",
    "np.random.shuffle(data)\n",
    "print(\"data:\\n\", data)\n",
    "imreadImg = imread(data[0])\n",
    "print(\"\\ndata[0]:\\n\", data[0])\n",
    "# check if image is a non-grayscale image by checking channel number\n",
    "if len(imreadImg.shape) >= 3:\n",
    "    # c_dim = imread(data[0].shape[-1])\n",
    "    c_dim = imread(data[0].shape[-1])\n",
    "    print(\"\\nc_dim:\\n\", c_dim)\n",
    "else:\n",
    "    c_dim = 1"
   ]
  },
  {
   "cell_type": "code",
   "execution_count": 3,
   "metadata": {},
   "outputs": [
    {
     "name": "stdout",
     "output_type": "stream",
     "text": [
      "1559050419.4298258\n"
     ]
    }
   ],
   "source": [
    "import time\n",
    "start_time = time.time()\n",
    "print(start_time)"
   ]
  },
  {
   "cell_type": "code",
   "execution_count": 2,
   "metadata": {},
   "outputs": [
    {
     "name": "stdout",
     "output_type": "stream",
     "text": [
      "1559050403.622093\n"
     ]
    }
   ],
   "source": [
    "print(start_time)"
   ]
  },
  {
   "cell_type": "code",
   "execution_count": null,
   "metadata": {},
   "outputs": [],
   "source": []
  }
 ],
 "metadata": {
  "kernelspec": {
   "display_name": "tensorflow",
   "language": "python",
   "name": "tensorflow"
  },
  "language_info": {
   "codemirror_mode": {
    "name": "ipython",
    "version": 3
   },
   "file_extension": ".py",
   "mimetype": "text/x-python",
   "name": "python",
   "nbconvert_exporter": "python",
   "pygments_lexer": "ipython3",
   "version": "3.6.7"
  },
  "widgets": {
   "state": {},
   "version": "1.1.2"
  }
 },
 "nbformat": 4,
 "nbformat_minor": 2
}

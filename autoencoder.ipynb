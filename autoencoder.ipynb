{
 "cells": [
  {
   "cell_type": "code",
   "execution_count": 1,
   "metadata": {},
   "outputs": [],
   "source": [
    "from __future__ import division, print_function, absolute_import\n",
    "import tensorflow as tf\n",
    "import numpy as np\n",
    "import matplotlib.pyplot as plt "
   ]
  },
  {
   "cell_type": "code",
   "execution_count": 2,
   "metadata": {},
   "outputs": [
    {
     "name": "stdout",
     "output_type": "stream",
     "text": [
      "WARNING:tensorflow:From <ipython-input-2-1490a4e1d83d>:3: read_data_sets (from tensorflow.contrib.learn.python.learn.datasets.mnist) is deprecated and will be removed in a future version.\n",
      "Instructions for updating:\n",
      "Please use alternatives such as official/mnist/dataset.py from tensorflow/models.\n",
      "WARNING:tensorflow:From /home/charles/Software/tensorflow/venv/lib/python3.6/site-packages/tensorflow/contrib/learn/python/learn/datasets/mnist.py:260: maybe_download (from tensorflow.contrib.learn.python.learn.datasets.base) is deprecated and will be removed in a future version.\n",
      "Instructions for updating:\n",
      "Please write your own downloading logic.\n",
      "WARNING:tensorflow:From /home/charles/Software/tensorflow/venv/lib/python3.6/site-packages/tensorflow/contrib/learn/python/learn/datasets/mnist.py:262: extract_images (from tensorflow.contrib.learn.python.learn.datasets.mnist) is deprecated and will be removed in a future version.\n",
      "Instructions for updating:\n",
      "Please use tf.data to implement this functionality.\n",
      "Extracting data/MNIST/train-images-idx3-ubyte.gz\n",
      "WARNING:tensorflow:From /home/charles/Software/tensorflow/venv/lib/python3.6/site-packages/tensorflow/contrib/learn/python/learn/datasets/mnist.py:267: extract_labels (from tensorflow.contrib.learn.python.learn.datasets.mnist) is deprecated and will be removed in a future version.\n",
      "Instructions for updating:\n",
      "Please use tf.data to implement this functionality.\n",
      "Extracting data/MNIST/train-labels-idx1-ubyte.gz\n",
      "WARNING:tensorflow:From /home/charles/Software/tensorflow/venv/lib/python3.6/site-packages/tensorflow/contrib/learn/python/learn/datasets/mnist.py:110: dense_to_one_hot (from tensorflow.contrib.learn.python.learn.datasets.mnist) is deprecated and will be removed in a future version.\n",
      "Instructions for updating:\n",
      "Please use tf.one_hot on tensors.\n",
      "Extracting data/MNIST/t10k-images-idx3-ubyte.gz\n",
      "Extracting data/MNIST/t10k-labels-idx1-ubyte.gz\n",
      "WARNING:tensorflow:From /home/charles/Software/tensorflow/venv/lib/python3.6/site-packages/tensorflow/contrib/learn/python/learn/datasets/mnist.py:290: DataSet.__init__ (from tensorflow.contrib.learn.python.learn.datasets.mnist) is deprecated and will be removed in a future version.\n",
      "Instructions for updating:\n",
      "Please use alternatives such as official/mnist/dataset.py from tensorflow/models.\n"
     ]
    }
   ],
   "source": [
    "from tensorflow.examples.tutorials.mnist import input_data\n",
    "\n",
    "data = input_data.read_data_sets(\"data/MNIST\", one_hot=True)"
   ]
  },
  {
   "cell_type": "code",
   "execution_count": 3,
   "metadata": {},
   "outputs": [],
   "source": [
    "# Training parameters\n",
    "learning_rate = 1e-2\n",
    "num_steps = 30000\n",
    "batch_size = 256\n",
    "\n",
    "display_step = 1000\n",
    "examples_to_show = 10\n",
    "\n",
    "# network parameters\n",
    "num_hidden_1 = 256\n",
    "num_hidden_2 = 128\n",
    "# MNIST (image shape = 28*28)\n",
    "img_size_flat = 784\n",
    "# tf graph input\n",
    "X = tf.placeholder(\"float\", [None, img_size_flat])\n",
    "\n",
    "weights = {\n",
    "    'encoder_h1': tf.Variable(tf.truncated_normal([img_size_flat, num_hidden_1])),\n",
    "    'encoder_h2': tf.Variable(tf.truncated_normal([num_hidden_1, num_hidden_2])),\n",
    "    'decoder_h1': tf.Variable(tf.truncated_normal([num_hidden_2, num_hidden_1])),\n",
    "    'decoder_h2': tf.Variable(tf.truncated_normal([num_hidden_1, img_size_flat])),\n",
    "}\n",
    "\n",
    "biases = {\n",
    "    'encoder_b1': tf.Variable(tf.random_normal([num_hidden_1])),\n",
    "    'encoder_b2': tf.Variable(tf.random_normal([num_hidden_2])),\n",
    "    'decoder_b1': tf.Variable(tf.random_normal([num_hidden_1])),\n",
    "    'decoder_b2': tf.Variable(tf.random_normal([img_size_flat])),\n",
    "}"
   ]
  },
  {
   "cell_type": "code",
   "execution_count": 4,
   "metadata": {},
   "outputs": [
    {
     "name": "stdout",
     "output_type": "stream",
     "text": [
      "weights['encoder_h1']: <tf.Variable 'Variable:0' shape=(784, 256) dtype=float32_ref>\n",
      "biases['encoder_b1']: <tf.Variable 'Variable_4:0' shape=(256,) dtype=float32_ref>\n",
      "layer_1: Tensor(\"Sigmoid:0\", shape=(?, 256), dtype=float32)\n",
      "weights['encoder_h2']: <tf.Variable 'Variable_1:0' shape=(256, 128) dtype=float32_ref>\n",
      "biases['encoder_b2']: <tf.Variable 'Variable_5:0' shape=(128,) dtype=float32_ref>\n",
      "weights['decoder_h1']: <tf.Variable 'Variable_2:0' shape=(128, 256) dtype=float32_ref>\n",
      "biases['decoder_b1']: <tf.Variable 'Variable_6:0' shape=(256,) dtype=float32_ref>\n",
      "layer_1: Tensor(\"Sigmoid_2:0\", shape=(?, 256), dtype=float32)\n",
      "weights['decoder_h2']: <tf.Variable 'Variable_3:0' shape=(256, 784) dtype=float32_ref>\n",
      "biases['decoder_b2']: <tf.Variable 'Variable_7:0' shape=(784,) dtype=float32_ref>\n"
     ]
    }
   ],
   "source": [
    "def encoder(x):\n",
    "    # encoder hidden layer with sigmoid activation\n",
    "    layer_1 = tf.nn.sigmoid(tf.add(tf.matmul(x, weights['encoder_h1']), \n",
    "                                   biases['encoder_b1']))\n",
    "    layer_2 = tf.nn.sigmoid(tf.add(tf.matmul(layer_1, weights['encoder_h2']),\n",
    "                                   biases['encoder_b2']))\n",
    "    print(\"weights['encoder_h1']:\", weights['encoder_h1'])\n",
    "    print(\"biases['encoder_b1']:\", biases['encoder_b1'])\n",
    "    print(\"layer_1:\", layer_1)\n",
    "    print(\"weights['encoder_h2']:\", weights['encoder_h2'])\n",
    "    print(\"biases['encoder_b2']:\", biases['encoder_b2'])\n",
    "    return layer_2\n",
    "\n",
    "def decoder(x):\n",
    "    # decoder hidden layer with sigmoid activation\n",
    "    layer_1 = tf.nn.sigmoid(tf.add(tf.matmul(x, weights['decoder_h1']), \n",
    "                                   biases['decoder_b1']))\n",
    "    layer_2 = tf.nn.sigmoid(tf.add(tf.matmul(layer_1, weights['decoder_h2']), \n",
    "                                   biases['decoder_b2']))\n",
    "    print(\"weights['decoder_h1']:\", weights['decoder_h1'])\n",
    "    print(\"biases['decoder_b1']:\", biases['decoder_b1'])\n",
    "    print(\"layer_1:\", layer_1)\n",
    "    print(\"weights['decoder_h2']:\", weights['decoder_h2'])\n",
    "    print(\"biases['decoder_b2']:\", biases['decoder_b2'])\n",
    "    return layer_2\n",
    "\n",
    "# construct model \n",
    "encoder_op = encoder(X)\n",
    "decoder_op = decoder(encoder_op)\n",
    "\n",
    "# prediction \n",
    "y_pred = decoder_op\n",
    "# target(labels) are the input data\n",
    "y_true = X\n",
    "\n",
    "# loss and optimizer\n",
    "# mean((y_true - y_pred)^2)\n",
    "cost = tf.reduce_mean(tf.pow(y_true-y_pred, 2))\n",
    "optimizer = tf.train.RMSPropOptimizer(learning_rate).minimize(cost)\n",
    "\n",
    "# initialize the variables\n",
    "init = tf.global_variables_initializer()"
   ]
  },
  {
   "cell_type": "code",
   "execution_count": 20,
   "metadata": {},
   "outputs": [
    {
     "name": "stdout",
     "output_type": "stream",
     "text": [
      "Step 1: Minibatch Loss:0.437897\n",
      "Step 1000: Minibatch Loss:0.118737\n",
      "Step 2000: Minibatch Loss:0.099630\n",
      "Step 3000: Minibatch Loss:0.093741\n",
      "Step 4000: Minibatch Loss:0.087311\n",
      "Step 5000: Minibatch Loss:0.081753\n",
      "Step 6000: Minibatch Loss:0.077985\n",
      "Step 7000: Minibatch Loss:0.073810\n",
      "Step 8000: Minibatch Loss:0.070637\n",
      "Step 9000: Minibatch Loss:0.066728\n",
      "Step 10000: Minibatch Loss:0.063981\n",
      "Step 11000: Minibatch Loss:0.061177\n",
      "Step 12000: Minibatch Loss:0.056790\n",
      "Step 13000: Minibatch Loss:0.055109\n",
      "Step 14000: Minibatch Loss:0.055346\n",
      "Step 15000: Minibatch Loss:0.051285\n",
      "Step 16000: Minibatch Loss:0.049287\n",
      "Step 17000: Minibatch Loss:0.048772\n",
      "Step 18000: Minibatch Loss:0.047311\n",
      "Step 19000: Minibatch Loss:0.046522\n",
      "Step 20000: Minibatch Loss:0.043475\n",
      "Step 21000: Minibatch Loss:0.044403\n",
      "Step 22000: Minibatch Loss:0.046506\n",
      "Step 23000: Minibatch Loss:0.044938\n",
      "Step 24000: Minibatch Loss:0.039666\n",
      "Step 25000: Minibatch Loss:0.040290\n",
      "Step 26000: Minibatch Loss:0.036242\n",
      "Step 27000: Minibatch Loss:0.037330\n",
      "Step 28000: Minibatch Loss:0.035737\n",
      "Step 29000: Minibatch Loss:0.035214\n",
      "Step 30000: Minibatch Loss:0.034057\n"
     ]
    }
   ],
   "source": [
    "sess = tf.Session()\n",
    "\n",
    "sess.run(init)\n",
    "\n",
    "# Training\n",
    "for i in range(1, num_steps+1):\n",
    "    # get the next batch\n",
    "    x_batch, _ = data.train.next_batch(batch_size)\n",
    "    #print(x_batch.dtype) # float32\n",
    "    #print(x_batch.shape) # (256, 784)\n",
    "    #print(\"{0} x_batch: {1}\".format(i, x_batch))\n",
    "    # run optimization op(backprop) and cost op(to get loss value)\n",
    "    _, loss = sess.run([optimizer, cost], feed_dict={X: x_batch})\n",
    "    \n",
    "    if i % display_step ==0 or i ==1:\n",
    "        print('Step %i: Minibatch Loss:%f' % (i, loss))"
   ]
  },
  {
   "cell_type": "code",
   "execution_count": 29,
   "metadata": {},
   "outputs": [
    {
     "name": "stdout",
     "output_type": "stream",
     "text": [
      "Original Images\n"
     ]
    },
    {
     "data": {
      "image/png": "[encoded data removed]",
      "text/plain": [
       "<Figure size 288x288 with 1 Axes>"
      ]
     },
     "metadata": {
      "needs_background": "light"
     },
     "output_type": "display_data"
    },
    {
     "name": "stdout",
     "output_type": "stream",
     "text": [
      "Reconstructed Images\n"
     ]
    },
    {
     "data": {
      "image/png": "[encoded data removed]",
      "text/plain": [
       "<Figure size 288x288 with 1 Axes>"
      ]
     },
     "metadata": {
      "needs_background": "light"
     },
     "output_type": "display_data"
    }
   ],
   "source": [
    "# testing \n",
    "# encode and decode images from test set and visualize their reconstruction\n",
    "n = 4\n",
    "canvas_orig = np.empty((28*n, 28*n))\n",
    "#print(\"canvas_orig:\\n\", canvas_orig)\n",
    "canvas_recon = np.empty((28*n, 28*n))\n",
    "#print(\"canvas_recon:\\n\", canvas_recon)\n",
    "for i in range(n):\n",
    "    x_batch, _ = data.test.next_batch(n)\n",
    "    #print(x_batch.dtype) # float32\n",
    "    #print(x_batch.shape) # (4, 784)\n",
    "    #print(\"{0} x_batch: {1}\".format(i, x_batch))\n",
    "    \n",
    "    # encode and decode the digit image\n",
    "    g = sess.run(decoder_op, feed_dict={X: x_batch})\n",
    "    #print(g.dtype) # float32\n",
    "    #print(g.shape) # (4, 784)\n",
    "    #print(\"{0} g: {1}\".format(i, g))  \n",
    "    \n",
    "    # display original images\n",
    "    for j in range(n):\n",
    "        # draw the generated digits\n",
    "        # canvas[0:28, 0:28], canvas[0:28, 28:56], [0:28,56:84], [0:28, 84:112]\n",
    "        # canvas[1:28, 0:28], ..., [1:28, 84,112]\n",
    "        # canvas[2:28, 0:28], ..., [2:28, 84,112]\n",
    "        # canvas[3:28, 0:28], ..., [3:28, 84,112]\n",
    "        canvas_orig[i*28:(i+1)*28, j*28:(j+1)*28] = x_batch[j].reshape([28, 28])\n",
    "        #print(canvas_orig.dtype) # float64\n",
    "        #print(canvas_orig.shape) # (112, 112)\n",
    "        #print(\"iteration:{0},{1}, canvas_orig:\\n {2}\".format(i, j, canvas_orig))\n",
    "        \n",
    "    # display reconstructed images\n",
    "    for j in range(n):\n",
    "        # draw the generated digits\n",
    "        canvas_recon[i*28:(i+1)*28, j*28:(j+1)*28] = g[j].reshape([28, 28])\n",
    "        #print(canvas_recon.dtype) # float32\n",
    "        #print(canvas_recon.shape) # (112, 112)\n",
    "        #print(\"iteration:{0},{1}, canvas_recon:\\n {2}\".format(i, j, canvas_recon))\n",
    "        \n",
    "print(\"Original Images\")\n",
    "plt.figure(figsize=(n, n))\n",
    "# cmap -> color map\n",
    "# origin -> 原点的位置. upper -> left upper, lower -> left lower\n",
    "plt.imshow(canvas_orig, origin=\"upper\", cmap=\"gray\")\n",
    "plt.show()\n",
    "    \n",
    "print(\"Reconstructed Images\")\n",
    "plt.figure(figsize=(n, n))\n",
    "plt.imshow(canvas_recon, origin=\"upper\", cmap=\"gray\")\n",
    "plt.show()"
   ]
  },
  {
   "cell_type": "code",
   "execution_count": null,
   "metadata": {},
   "outputs": [],
   "source": []
  }
 ],
 "metadata": {
  "kernelspec": {
   "display_name": "tensorflow",
   "language": "python",
   "name": "tensorflow"
  },
  "language_info": {
   "codemirror_mode": {
    "name": "ipython",
    "version": 3
   },
   "file_extension": ".py",
   "mimetype": "text/x-python",
   "name": "python",
   "nbconvert_exporter": "python",
   "pygments_lexer": "ipython3",
   "version": "3.6.7"
  }
 },
 "nbformat": 4,
 "nbformat_minor": 2
}

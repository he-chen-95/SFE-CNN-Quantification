{
 "cells": [
  {
   "cell_type": "code",
   "execution_count": 1,
   "metadata": {},
   "outputs": [],
   "source": [
    "from __future__ import division, print_function, absolute_import\n",
    "\n",
    "import matplotlib.pyplot as plt\n",
    "import numpy as np\n",
    "import tensorflow as tf"
   ]
  },
  {
   "cell_type": "code",
   "execution_count": 3,
   "metadata": {},
   "outputs": [
    {
     "name": "stdout",
     "output_type": "stream",
     "text": [
      "WARNING:tensorflow:From /home/charles/Software/tensorflow/venv/lib/python3.6/site-packages/tensorflow/contrib/learn/python/learn/datasets/mnist.py:260: maybe_download (from tensorflow.contrib.learn.python.learn.datasets.base) is deprecated and will be removed in a future version.\n",
      "Instructions for updating:\n",
      "Please write your own downloading logic.\n",
      "WARNING:tensorflow:From /home/charles/Software/tensorflow/venv/lib/python3.6/site-packages/tensorflow/contrib/learn/python/learn/datasets/mnist.py:262: extract_images (from tensorflow.contrib.learn.python.learn.datasets.mnist) is deprecated and will be removed in a future version.\n",
      "Instructions for updating:\n",
      "Please use tf.data to implement this functionality.\n",
      "Extracting data/MNIST/train-images-idx3-ubyte.gz\n",
      "WARNING:tensorflow:From /home/charles/Software/tensorflow/venv/lib/python3.6/site-packages/tensorflow/contrib/learn/python/learn/datasets/mnist.py:267: extract_labels (from tensorflow.contrib.learn.python.learn.datasets.mnist) is deprecated and will be removed in a future version.\n",
      "Instructions for updating:\n",
      "Please use tf.data to implement this functionality.\n",
      "Extracting data/MNIST/train-labels-idx1-ubyte.gz\n",
      "WARNING:tensorflow:From /home/charles/Software/tensorflow/venv/lib/python3.6/site-packages/tensorflow/contrib/learn/python/learn/datasets/mnist.py:110: dense_to_one_hot (from tensorflow.contrib.learn.python.learn.datasets.mnist) is deprecated and will be removed in a future version.\n",
      "Instructions for updating:\n",
      "Please use tf.one_hot on tensors.\n",
      "Extracting data/MNIST/t10k-images-idx3-ubyte.gz\n",
      "Extracting data/MNIST/t10k-labels-idx1-ubyte.gz\n",
      "WARNING:tensorflow:From /home/charles/Software/tensorflow/venv/lib/python3.6/site-packages/tensorflow/contrib/learn/python/learn/datasets/mnist.py:290: DataSet.__init__ (from tensorflow.contrib.learn.python.learn.datasets.mnist) is deprecated and will be removed in a future version.\n",
      "Instructions for updating:\n",
      "Please use alternatives such as official/mnist/dataset.py from tensorflow/models.\n"
     ]
    }
   ],
   "source": [
    "from tensorflow.examples.tutorials.mnist import input_data\n",
    "mnist = input_data.read_data_sets(\"data/MNIST/\", one_hot=True)"
   ]
  },
  {
   "cell_type": "code",
   "execution_count": 12,
   "metadata": {},
   "outputs": [],
   "source": [
    "# Training Param\n",
    "num_steps = 70000\n",
    "batch_size = 128\n",
    "learning_rate = 2e-4\n",
    "\n",
    "# network parameters\n",
    "image_dim = 784 # 28 * 28 piexls\n",
    "gen_hidden_dim = 256\n",
    "disc_hidden_dim = 256\n",
    "noise_dim = 100 # noise data points\n",
    "\n",
    "# a custom initialization (see xavier glorot init)\n",
    "def glorot_init(shape):\n",
    "    return tf.random_normal(shape=shape, stddev=1. / tf.sqrt(shape[0] / 2.))"
   ]
  },
  {
   "cell_type": "code",
   "execution_count": 16,
   "metadata": {},
   "outputs": [],
   "source": [
    "# store the weights and biases\n",
    "weights = {\n",
    "    'gen_hidden1': tf.Variable(glorot_init([noise_dim, gen_hidden_dim])),\n",
    "    'gen_out': tf.Variable(glorot_init([gen_hidden_dim, image_dim])),\n",
    "    'disc_hidden1': tf.Variable(glorot_init([image_dim, disc_hidden_dim])),\n",
    "    'disc_out': tf.Variable(glorot_init([disc_hidden_dim, 1])),   \n",
    "}\n",
    "\n",
    "biases = {\n",
    "    'gen_hidden1': tf.Variable(glorot_init([gen_hidden_dim])),\n",
    "    'gen_out': tf.Variable(glorot_init([image_dim])),\n",
    "    'disc_hidden1': tf.Variable(glorot_init([disc_hidden_dim])),\n",
    "    'disc_out': tf.Variable(tf.zeros([1])),\n",
    "}"
   ]
  },
  {
   "cell_type": "code",
   "execution_count": 18,
   "metadata": {},
   "outputs": [],
   "source": [
    "# generator\n",
    "def generator(x):\n",
    "    hidden_layer = tf.add(tf.matmul(x, weights['gen_hidden1']),\n",
    "                          biases['gen_hidden1'])\n",
    "    hidden_layer = tf.nn.relu(hidden_layer)\n",
    "    out_layer = tf.add(tf.matmul(hidden_layer, weights['gen_out']),\n",
    "                       biases['gen_out'])\n",
    "    out_layer = tf.nn.sigmoid(out_layer)\n",
    "    return out_layer\n",
    "\n",
    "# discriminator\n",
    "def discriminator(x):\n",
    "    hidden_layer = tf.add(tf.matmul(x, weights['disc_hidden1']),\n",
    "                          biases['disc_hidden1'])\n",
    "    hidden_layer = tf.nn.relu(hidden_layer)\n",
    "    out_layer = tf.add(tf.matmul(hidden_layer, weights['disc_out']),\n",
    "                       biases['disc_out'])\n",
    "    out_layer = tf.nn.sigmoid(out_layer)\n",
    "    return out_layer\n",
    "\n",
    "# build network\n",
    "# network input\n",
    "gen_input = tf.placeholder(tf.float32, shape=[None, noise_dim], name='input_noise')\n",
    "disc_input = tf.placeholder(tf.float32, shape=[None, image_dim], name='disc_noise')\n",
    "\n",
    "# Build Generator Network\n",
    "gen_sample = generator(gen_input)\n",
    "\n",
    "# build 2 discriminator networks (one form noise input, one form generated samples)\n",
    "disc_real = discriminator(disc_input)\n",
    "disc_fake = discriminator(gen_sample)\n",
    "\n",
    "# Build loss\n",
    "gen_loss = -tf.reduce_mean(tf.log(disc_fake))\n",
    "disc_loss = -tf.reduce_mean(tf.log(disc_real) + tf.log(1. - disc_fake))\n",
    "\n",
    "# build optimizer\n",
    "optimizer_gen = tf.train.AdamOptimizer(learning_rate=learning_rate)\n",
    "optimizer_disc = tf.train.AdamOptimizer(learning_rate=learning_rate)\n",
    "\n",
    "# training variables for each optimizer\n",
    "# by default, in tensorflow, all variables are updated by each optimizer, \n",
    "# so we need to pprecise for each one of them the specific variables to update.\n",
    "# genrator network variables\n",
    "gen_vars = [weights['gen_hidden1'], weights['gen_out'],\n",
    "           biases['gen_hidden1'], biases['gen_out']]\n",
    "# discriminator network variables\n",
    "disc_vars = [weights['disc_hidden1'], weights['disc_out'], \n",
    "            biases['disc_hidden1'], biases['disc_out']]\n",
    "\n",
    "# create traing operations\n",
    "train_gen = optimizer_gen.minimize(gen_loss, var_list=gen_vars)\n",
    "train_disc = optimizer_disc.minimize(disc_loss, var_list=disc_vars)\n",
    "\n",
    "# initialize the variables (i.e. assign the default value)\n",
    "init = tf.global_variables_initializer()"
   ]
  },
  {
   "cell_type": "code",
   "execution_count": 20,
   "metadata": {},
   "outputs": [
    {
     "name": "stdout",
     "output_type": "stream",
     "text": [
      "Step 1, Genarator Loss: 0.882297, Discriminator Loss: 1.305479\n",
      "Step 2000, Genarator Loss: 5.068214, Discriminator Loss: 0.027987\n",
      "Step 4000, Genarator Loss: 4.436724, Discriminator Loss: 0.040175\n",
      "Step 6000, Genarator Loss: 4.156024, Discriminator Loss: 0.085066\n",
      "Step 8000, Genarator Loss: 3.990620, Discriminator Loss: 0.147937\n",
      "Step 10000, Genarator Loss: 3.733725, Discriminator Loss: 0.136505\n",
      "Step 12000, Genarator Loss: 4.603708, Discriminator Loss: 0.061539\n",
      "Step 14000, Genarator Loss: 3.813803, Discriminator Loss: 0.169923\n",
      "Step 16000, Genarator Loss: 3.947875, Discriminator Loss: 0.123781\n",
      "Step 18000, Genarator Loss: 3.765917, Discriminator Loss: 0.271116\n",
      "Step 20000, Genarator Loss: 3.901262, Discriminator Loss: 0.286956\n",
      "Step 22000, Genarator Loss: 3.424707, Discriminator Loss: 0.271475\n",
      "Step 24000, Genarator Loss: 3.275628, Discriminator Loss: 0.297381\n",
      "Step 26000, Genarator Loss: 3.101562, Discriminator Loss: 0.335851\n",
      "Step 28000, Genarator Loss: 3.252343, Discriminator Loss: 0.286007\n",
      "Step 30000, Genarator Loss: 3.609222, Discriminator Loss: 0.402004\n",
      "Step 32000, Genarator Loss: 3.343065, Discriminator Loss: 0.305185\n",
      "Step 34000, Genarator Loss: 3.358247, Discriminator Loss: 0.370190\n",
      "Step 36000, Genarator Loss: 3.248934, Discriminator Loss: 0.307755\n",
      "Step 38000, Genarator Loss: 2.974672, Discriminator Loss: 0.473510\n",
      "Step 40000, Genarator Loss: 2.943222, Discriminator Loss: 0.413685\n",
      "Step 42000, Genarator Loss: 3.032018, Discriminator Loss: 0.371559\n",
      "Step 44000, Genarator Loss: 2.834362, Discriminator Loss: 0.454980\n",
      "Step 46000, Genarator Loss: 2.765721, Discriminator Loss: 0.365160\n",
      "Step 48000, Genarator Loss: 3.077756, Discriminator Loss: 0.471904\n",
      "Step 50000, Genarator Loss: 2.810493, Discriminator Loss: 0.362235\n",
      "Step 52000, Genarator Loss: 3.034636, Discriminator Loss: 0.391303\n",
      "Step 54000, Genarator Loss: 2.680423, Discriminator Loss: 0.448114\n",
      "Step 56000, Genarator Loss: 2.621435, Discriminator Loss: 0.491109\n",
      "Step 58000, Genarator Loss: 2.886053, Discriminator Loss: 0.318013\n",
      "Step 60000, Genarator Loss: 3.058156, Discriminator Loss: 0.545247\n",
      "Step 62000, Genarator Loss: 3.081049, Discriminator Loss: 0.436513\n",
      "Step 64000, Genarator Loss: 3.233799, Discriminator Loss: 0.338743\n",
      "Step 66000, Genarator Loss: 2.899478, Discriminator Loss: 0.470150\n",
      "Step 68000, Genarator Loss: 3.108622, Discriminator Loss: 0.367371\n",
      "Step 70000, Genarator Loss: 3.059502, Discriminator Loss: 0.399869\n"
     ]
    }
   ],
   "source": [
    "# start training \n",
    "# start a new tf session\n",
    "sess = tf.Session()\n",
    "\n",
    "# Run the initializer\n",
    "sess.run(init)\n",
    "\n",
    "# training \n",
    "for i in range(1, num_steps+1):\n",
    "    # prepare data\n",
    "    # get the next batch of mnist data(only images are needed, not labels)\n",
    "    batch_x, _ = mnist.train.next_batch(batch_size)\n",
    "    # generate noise to feed to the generator\n",
    "    z = np.random.uniform(-1., 1., size=[batch_size, noise_dim])\n",
    "    \n",
    "    # train\n",
    "    feed_dict = {disc_input: batch_x, gen_input: z}\n",
    "    _, _, gl, dl = sess.run([train_gen, train_disc, gen_loss, disc_loss],\n",
    "                            feed_dict=feed_dict)\n",
    "    \n",
    "    if i % 2000 == 0 or i == 1:\n",
    "        print('Step %i, Genarator Loss: %f, Discriminator Loss: %f' %(i, gl,dl))"
   ]
  },
  {
   "cell_type": "code",
   "execution_count": 22,
   "metadata": {},
   "outputs": [
    {
     "data": {
      "image/png": "[encoded data removed]",
      "text/plain": [
       "<Figure size 432x432 with 1 Axes>"
      ]
     },
     "metadata": {
      "needs_background": "light"
     },
     "output_type": "display_data"
    }
   ],
   "source": [
    "# testing\n",
    "# genarate the image from noise, using the generator network.\n",
    "n = 6\n",
    "canvas = np.empty((28 * n, 28 * n))\n",
    "for i in range(n):\n",
    "    # Noise input.\n",
    "    z = np.random.uniform(-1., 1., size=[n, noise_dim])\n",
    "    # generate image from noise\n",
    "    g = sess.run(gen_sample, feed_dict={gen_input: z})\n",
    "    # reverse colours for better display\n",
    "    g = -1 * (g - 1)\n",
    "    for j in range(n):\n",
    "        # draw the generated image\n",
    "        canvas[i * 28: (i + 1) * 28, j * 28: (j + 1) * 28] = \\\n",
    "        g[j].reshape([28, 28])\n",
    "        \n",
    "plt.figure(figsize=(n, n))\n",
    "plt.imshow(canvas, origin='upper', cmap='gray')\n",
    "plt.show()"
   ]
  },
  {
   "cell_type": "code",
   "execution_count": null,
   "metadata": {},
   "outputs": [],
   "source": []
  }
 ],
 "metadata": {
  "kernelspec": {
   "display_name": "tensorflow",
   "language": "python",
   "name": "tensorflow"
  },
  "language_info": {
   "codemirror_mode": {
    "name": "ipython",
    "version": 3
   },
   "file_extension": ".py",
   "mimetype": "text/x-python",
   "name": "python",
   "nbconvert_exporter": "python",
   "pygments_lexer": "ipython3",
   "version": "3.6.7"
  }
 },
 "nbformat": 4,
 "nbformat_minor": 2
}
